{
 "cells": [
  {
   "cell_type": "code",
   "execution_count": 1,
   "id": "62f6bb0f",
   "metadata": {},
   "outputs": [],
   "source": [
    "import pandas as pd\n",
    "import spacy \n",
    "import numpy as np"
   ]
  },
  {
   "cell_type": "code",
   "execution_count": 2,
   "id": "13e058e1",
   "metadata": {},
   "outputs": [],
   "source": [
    "df = pd.read_csv('spam.csv', encoding='latin-1')"
   ]
  },
  {
   "cell_type": "code",
   "execution_count": 3,
   "id": "096ea526",
   "metadata": {},
   "outputs": [
    {
     "data": {
      "text/html": [
       "<div>\n",
       "<style scoped>\n",
       "    .dataframe tbody tr th:only-of-type {\n",
       "        vertical-align: middle;\n",
       "    }\n",
       "\n",
       "    .dataframe tbody tr th {\n",
       "        vertical-align: top;\n",
       "    }\n",
       "\n",
       "    .dataframe thead th {\n",
       "        text-align: right;\n",
       "    }\n",
       "</style>\n",
       "<table border=\"1\" class=\"dataframe\">\n",
       "  <thead>\n",
       "    <tr style=\"text-align: right;\">\n",
       "      <th></th>\n",
       "      <th>v1</th>\n",
       "      <th>v2</th>\n",
       "      <th>Unnamed: 2</th>\n",
       "      <th>Unnamed: 3</th>\n",
       "      <th>Unnamed: 4</th>\n",
       "    </tr>\n",
       "  </thead>\n",
       "  <tbody>\n",
       "    <tr>\n",
       "      <th>0</th>\n",
       "      <td>ham</td>\n",
       "      <td>Go until jurong point, crazy.. Available only ...</td>\n",
       "      <td>NaN</td>\n",
       "      <td>NaN</td>\n",
       "      <td>NaN</td>\n",
       "    </tr>\n",
       "    <tr>\n",
       "      <th>1</th>\n",
       "      <td>ham</td>\n",
       "      <td>Ok lar... Joking wif u oni...</td>\n",
       "      <td>NaN</td>\n",
       "      <td>NaN</td>\n",
       "      <td>NaN</td>\n",
       "    </tr>\n",
       "    <tr>\n",
       "      <th>2</th>\n",
       "      <td>spam</td>\n",
       "      <td>Free entry in 2 a wkly comp to win FA Cup fina...</td>\n",
       "      <td>NaN</td>\n",
       "      <td>NaN</td>\n",
       "      <td>NaN</td>\n",
       "    </tr>\n",
       "    <tr>\n",
       "      <th>3</th>\n",
       "      <td>ham</td>\n",
       "      <td>U dun say so early hor... U c already then say...</td>\n",
       "      <td>NaN</td>\n",
       "      <td>NaN</td>\n",
       "      <td>NaN</td>\n",
       "    </tr>\n",
       "    <tr>\n",
       "      <th>4</th>\n",
       "      <td>ham</td>\n",
       "      <td>Nah I don't think he goes to usf, he lives aro...</td>\n",
       "      <td>NaN</td>\n",
       "      <td>NaN</td>\n",
       "      <td>NaN</td>\n",
       "    </tr>\n",
       "  </tbody>\n",
       "</table>\n",
       "</div>"
      ],
      "text/plain": [
       "     v1                                                 v2 Unnamed: 2  \\\n",
       "0   ham  Go until jurong point, crazy.. Available only ...        NaN   \n",
       "1   ham                      Ok lar... Joking wif u oni...        NaN   \n",
       "2  spam  Free entry in 2 a wkly comp to win FA Cup fina...        NaN   \n",
       "3   ham  U dun say so early hor... U c already then say...        NaN   \n",
       "4   ham  Nah I don't think he goes to usf, he lives aro...        NaN   \n",
       "\n",
       "  Unnamed: 3 Unnamed: 4  \n",
       "0        NaN        NaN  \n",
       "1        NaN        NaN  \n",
       "2        NaN        NaN  \n",
       "3        NaN        NaN  \n",
       "4        NaN        NaN  "
      ]
     },
     "execution_count": 3,
     "metadata": {},
     "output_type": "execute_result"
    }
   ],
   "source": [
    "df.head()"
   ]
  },
  {
   "cell_type": "markdown",
   "id": "3715447f",
   "metadata": {},
   "source": [
    "Data Pre-processing\n",
    "1. Removing columns which are not needed\n",
    "2. Cleaning text using spacy\n",
    "3. converting text into vectors using word2vec"
   ]
  },
  {
   "cell_type": "code",
   "execution_count": 4,
   "id": "112ab5c9",
   "metadata": {},
   "outputs": [
    {
     "data": {
      "text/plain": [
       "Index(['v1', 'v2', 'Unnamed: 2', 'Unnamed: 3', 'Unnamed: 4'], dtype='object')"
      ]
     },
     "execution_count": 4,
     "metadata": {},
     "output_type": "execute_result"
    }
   ],
   "source": [
    "df.columns"
   ]
  },
  {
   "cell_type": "code",
   "execution_count": 5,
   "id": "097ce296",
   "metadata": {},
   "outputs": [],
   "source": [
    "df.drop(['Unnamed: 2', 'Unnamed: 3','Unnamed: 4'], axis=1, inplace=True)"
   ]
  },
  {
   "cell_type": "code",
   "execution_count": 6,
   "id": "629c0afb",
   "metadata": {},
   "outputs": [
    {
     "data": {
      "text/html": [
       "<div>\n",
       "<style scoped>\n",
       "    .dataframe tbody tr th:only-of-type {\n",
       "        vertical-align: middle;\n",
       "    }\n",
       "\n",
       "    .dataframe tbody tr th {\n",
       "        vertical-align: top;\n",
       "    }\n",
       "\n",
       "    .dataframe thead th {\n",
       "        text-align: right;\n",
       "    }\n",
       "</style>\n",
       "<table border=\"1\" class=\"dataframe\">\n",
       "  <thead>\n",
       "    <tr style=\"text-align: right;\">\n",
       "      <th></th>\n",
       "      <th>v1</th>\n",
       "      <th>v2</th>\n",
       "    </tr>\n",
       "  </thead>\n",
       "  <tbody>\n",
       "    <tr>\n",
       "      <th>0</th>\n",
       "      <td>ham</td>\n",
       "      <td>Go until jurong point, crazy.. Available only ...</td>\n",
       "    </tr>\n",
       "    <tr>\n",
       "      <th>1</th>\n",
       "      <td>ham</td>\n",
       "      <td>Ok lar... Joking wif u oni...</td>\n",
       "    </tr>\n",
       "    <tr>\n",
       "      <th>2</th>\n",
       "      <td>spam</td>\n",
       "      <td>Free entry in 2 a wkly comp to win FA Cup fina...</td>\n",
       "    </tr>\n",
       "    <tr>\n",
       "      <th>3</th>\n",
       "      <td>ham</td>\n",
       "      <td>U dun say so early hor... U c already then say...</td>\n",
       "    </tr>\n",
       "    <tr>\n",
       "      <th>4</th>\n",
       "      <td>ham</td>\n",
       "      <td>Nah I don't think he goes to usf, he lives aro...</td>\n",
       "    </tr>\n",
       "  </tbody>\n",
       "</table>\n",
       "</div>"
      ],
      "text/plain": [
       "     v1                                                 v2\n",
       "0   ham  Go until jurong point, crazy.. Available only ...\n",
       "1   ham                      Ok lar... Joking wif u oni...\n",
       "2  spam  Free entry in 2 a wkly comp to win FA Cup fina...\n",
       "3   ham  U dun say so early hor... U c already then say...\n",
       "4   ham  Nah I don't think he goes to usf, he lives aro..."
      ]
     },
     "execution_count": 6,
     "metadata": {},
     "output_type": "execute_result"
    }
   ],
   "source": [
    "df.head()"
   ]
  },
  {
   "cell_type": "code",
   "execution_count": 7,
   "id": "074c0e93",
   "metadata": {},
   "outputs": [],
   "source": [
    "nlp = spacy.load(\"en_core_web_sm\")"
   ]
  },
  {
   "cell_type": "code",
   "execution_count": 8,
   "id": "f1e99a1e",
   "metadata": {},
   "outputs": [],
   "source": [
    "#Cleaning text\n",
    "def clean_text(text):\n",
    "    doc = nlp(text)\n",
    "    cleaned_tokens = []\n",
    "    for token in doc:\n",
    "        if not token.is_stop and not token.is_punct:\n",
    "            cleaned_tokens.append(token.text)\n",
    "    cleaned_text = ' '.join(cleaned_tokens)\n",
    "    return cleaned_text"
   ]
  },
  {
   "cell_type": "code",
   "execution_count": 9,
   "id": "072909c4",
   "metadata": {},
   "outputs": [],
   "source": [
    "df['cleaned_text'] = df['v2'].apply(clean_text)"
   ]
  },
  {
   "cell_type": "code",
   "execution_count": 10,
   "id": "ac097f62",
   "metadata": {},
   "outputs": [],
   "source": [
    "df['tokenized_text'] = df['cleaned_text'].apply(lambda x: [token.text for token in nlp(x)])"
   ]
  },
  {
   "cell_type": "code",
   "execution_count": 11,
   "id": "beadbc5b",
   "metadata": {},
   "outputs": [
    {
     "data": {
      "text/html": [
       "<div>\n",
       "<style scoped>\n",
       "    .dataframe tbody tr th:only-of-type {\n",
       "        vertical-align: middle;\n",
       "    }\n",
       "\n",
       "    .dataframe tbody tr th {\n",
       "        vertical-align: top;\n",
       "    }\n",
       "\n",
       "    .dataframe thead th {\n",
       "        text-align: right;\n",
       "    }\n",
       "</style>\n",
       "<table border=\"1\" class=\"dataframe\">\n",
       "  <thead>\n",
       "    <tr style=\"text-align: right;\">\n",
       "      <th></th>\n",
       "      <th>v1</th>\n",
       "      <th>v2</th>\n",
       "      <th>cleaned_text</th>\n",
       "      <th>tokenized_text</th>\n",
       "    </tr>\n",
       "  </thead>\n",
       "  <tbody>\n",
       "    <tr>\n",
       "      <th>0</th>\n",
       "      <td>ham</td>\n",
       "      <td>Go until jurong point, crazy.. Available only ...</td>\n",
       "      <td>jurong point crazy Available bugis n great wor...</td>\n",
       "      <td>[jurong, point, crazy, Available, bugis, n, gr...</td>\n",
       "    </tr>\n",
       "    <tr>\n",
       "      <th>1</th>\n",
       "      <td>ham</td>\n",
       "      <td>Ok lar... Joking wif u oni...</td>\n",
       "      <td>Ok lar Joking wif u oni</td>\n",
       "      <td>[Ok, lar, Joking, wif, u, oni]</td>\n",
       "    </tr>\n",
       "    <tr>\n",
       "      <th>2</th>\n",
       "      <td>spam</td>\n",
       "      <td>Free entry in 2 a wkly comp to win FA Cup fina...</td>\n",
       "      <td>Free entry 2 wkly comp win FA Cup final tkts 2...</td>\n",
       "      <td>[Free, entry, 2, wkly, comp, win, FA, Cup, fin...</td>\n",
       "    </tr>\n",
       "    <tr>\n",
       "      <th>3</th>\n",
       "      <td>ham</td>\n",
       "      <td>U dun say so early hor... U c already then say...</td>\n",
       "      <td>U dun early hor U c</td>\n",
       "      <td>[U, dun, early, hor, U, c]</td>\n",
       "    </tr>\n",
       "    <tr>\n",
       "      <th>4</th>\n",
       "      <td>ham</td>\n",
       "      <td>Nah I don't think he goes to usf, he lives aro...</td>\n",
       "      <td>Nah think goes usf lives</td>\n",
       "      <td>[Nah, think, goes, usf, lives]</td>\n",
       "    </tr>\n",
       "    <tr>\n",
       "      <th>...</th>\n",
       "      <td>...</td>\n",
       "      <td>...</td>\n",
       "      <td>...</td>\n",
       "      <td>...</td>\n",
       "    </tr>\n",
       "    <tr>\n",
       "      <th>5567</th>\n",
       "      <td>spam</td>\n",
       "      <td>This is the 2nd time we have tried 2 contact u...</td>\n",
       "      <td>2nd time tried 2 contact u. U won å£750 Pound ...</td>\n",
       "      <td>[2nd, time, tried, 2, contact, u., U, won, å£7...</td>\n",
       "    </tr>\n",
       "    <tr>\n",
       "      <th>5568</th>\n",
       "      <td>ham</td>\n",
       "      <td>Will Ì_ b going to esplanade fr home?</td>\n",
       "      <td>Ì b going esplanade fr home</td>\n",
       "      <td>[Ì, b, going, esplanade, fr, home]</td>\n",
       "    </tr>\n",
       "    <tr>\n",
       "      <th>5569</th>\n",
       "      <td>ham</td>\n",
       "      <td>Pity, * was in mood for that. So...any other s...</td>\n",
       "      <td>Pity mood suggestions</td>\n",
       "      <td>[Pity, mood, suggestions]</td>\n",
       "    </tr>\n",
       "    <tr>\n",
       "      <th>5570</th>\n",
       "      <td>ham</td>\n",
       "      <td>The guy did some bitching but I acted like i'd...</td>\n",
       "      <td>guy bitching acted like interested buying week...</td>\n",
       "      <td>[guy, bitching, acted, like, interested, buyin...</td>\n",
       "    </tr>\n",
       "    <tr>\n",
       "      <th>5571</th>\n",
       "      <td>ham</td>\n",
       "      <td>Rofl. Its true to its name</td>\n",
       "      <td>Rofl true</td>\n",
       "      <td>[Rofl, true]</td>\n",
       "    </tr>\n",
       "  </tbody>\n",
       "</table>\n",
       "<p>5572 rows × 4 columns</p>\n",
       "</div>"
      ],
      "text/plain": [
       "        v1                                                 v2  \\\n",
       "0      ham  Go until jurong point, crazy.. Available only ...   \n",
       "1      ham                      Ok lar... Joking wif u oni...   \n",
       "2     spam  Free entry in 2 a wkly comp to win FA Cup fina...   \n",
       "3      ham  U dun say so early hor... U c already then say...   \n",
       "4      ham  Nah I don't think he goes to usf, he lives aro...   \n",
       "...    ...                                                ...   \n",
       "5567  spam  This is the 2nd time we have tried 2 contact u...   \n",
       "5568   ham              Will Ì_ b going to esplanade fr home?   \n",
       "5569   ham  Pity, * was in mood for that. So...any other s...   \n",
       "5570   ham  The guy did some bitching but I acted like i'd...   \n",
       "5571   ham                         Rofl. Its true to its name   \n",
       "\n",
       "                                           cleaned_text  \\\n",
       "0     jurong point crazy Available bugis n great wor...   \n",
       "1                               Ok lar Joking wif u oni   \n",
       "2     Free entry 2 wkly comp win FA Cup final tkts 2...   \n",
       "3                                   U dun early hor U c   \n",
       "4                              Nah think goes usf lives   \n",
       "...                                                 ...   \n",
       "5567  2nd time tried 2 contact u. U won å£750 Pound ...   \n",
       "5568                        Ì b going esplanade fr home   \n",
       "5569                              Pity mood suggestions   \n",
       "5570  guy bitching acted like interested buying week...   \n",
       "5571                                          Rofl true   \n",
       "\n",
       "                                         tokenized_text  \n",
       "0     [jurong, point, crazy, Available, bugis, n, gr...  \n",
       "1                        [Ok, lar, Joking, wif, u, oni]  \n",
       "2     [Free, entry, 2, wkly, comp, win, FA, Cup, fin...  \n",
       "3                            [U, dun, early, hor, U, c]  \n",
       "4                        [Nah, think, goes, usf, lives]  \n",
       "...                                                 ...  \n",
       "5567  [2nd, time, tried, 2, contact, u., U, won, å£7...  \n",
       "5568                 [Ì, b, going, esplanade, fr, home]  \n",
       "5569                          [Pity, mood, suggestions]  \n",
       "5570  [guy, bitching, acted, like, interested, buyin...  \n",
       "5571                                       [Rofl, true]  \n",
       "\n",
       "[5572 rows x 4 columns]"
      ]
     },
     "execution_count": 11,
     "metadata": {},
     "output_type": "execute_result"
    }
   ],
   "source": [
    "df"
   ]
  },
  {
   "cell_type": "markdown",
   "id": "5a22711b",
   "metadata": {},
   "source": [
    "Using gensim for training word2vec from the text in the data"
   ]
  },
  {
   "cell_type": "code",
   "execution_count": 276,
   "id": "85c86dc2",
   "metadata": {},
   "outputs": [],
   "source": [
    "from gensim.models import Word2Vec"
   ]
  },
  {
   "cell_type": "code",
   "execution_count": 574,
   "id": "bae3afde",
   "metadata": {},
   "outputs": [],
   "source": [
    "#sg=1, using skipgram instead of CBOW\n",
    "model = Word2Vec(sentences=df['tokenized_text'], vector_size=20, window=7, min_count=1, sg=1)"
   ]
  },
  {
   "cell_type": "code",
   "execution_count": 575,
   "id": "b0637026",
   "metadata": {},
   "outputs": [
    {
     "data": {
      "text/plain": [
       "<gensim.models.word2vec.Word2Vec at 0x205c8bc9f40>"
      ]
     },
     "execution_count": 575,
     "metadata": {},
     "output_type": "execute_result"
    }
   ],
   "source": [
    "model"
   ]
  },
  {
   "cell_type": "code",
   "execution_count": 576,
   "id": "862d4480",
   "metadata": {},
   "outputs": [],
   "source": [
    "model.save(\"spam_classifier.model\")"
   ]
  },
  {
   "cell_type": "code",
   "execution_count": 577,
   "id": "e733ab10",
   "metadata": {},
   "outputs": [],
   "source": [
    "#Obtaining word embeddings for the tokens\n",
    "def get_average_word_embedding(tokens, model):\n",
    "    valid_tokens = [token for token in tokens if token in model.wv]\n",
    "    \n",
    "    if not valid_tokens:\n",
    "        return np.zeros(model.vector_size)\n",
    "    \n",
    "    embeddings = [model.wv[token] for token in valid_tokens]\n",
    "    avg_embedding = np.mean(embeddings, axis=0)\n",
    "    \n",
    "    return avg_embedding\n",
    "\n"
   ]
  },
  {
   "cell_type": "code",
   "execution_count": 578,
   "id": "2a79a36b",
   "metadata": {},
   "outputs": [],
   "source": [
    "df['word_embeddings'] = df['tokenized_text'].apply(lambda x: get_average_word_embedding(x, model))"
   ]
  },
  {
   "cell_type": "code",
   "execution_count": 579,
   "id": "9f0995b1",
   "metadata": {},
   "outputs": [
    {
     "data": {
      "text/html": [
       "<div>\n",
       "<style scoped>\n",
       "    .dataframe tbody tr th:only-of-type {\n",
       "        vertical-align: middle;\n",
       "    }\n",
       "\n",
       "    .dataframe tbody tr th {\n",
       "        vertical-align: top;\n",
       "    }\n",
       "\n",
       "    .dataframe thead th {\n",
       "        text-align: right;\n",
       "    }\n",
       "</style>\n",
       "<table border=\"1\" class=\"dataframe\">\n",
       "  <thead>\n",
       "    <tr style=\"text-align: right;\">\n",
       "      <th></th>\n",
       "      <th>v1</th>\n",
       "      <th>v2</th>\n",
       "      <th>cleaned_text</th>\n",
       "      <th>tokenized_text</th>\n",
       "      <th>word_embeddings</th>\n",
       "      <th>class</th>\n",
       "    </tr>\n",
       "  </thead>\n",
       "  <tbody>\n",
       "    <tr>\n",
       "      <th>0</th>\n",
       "      <td>ham</td>\n",
       "      <td>Go until jurong point, crazy.. Available only ...</td>\n",
       "      <td>jurong point crazy Available bugis n great wor...</td>\n",
       "      <td>[jurong, point, crazy, Available, bugis, n, gr...</td>\n",
       "      <td>[0.005591023, -0.009304361, 0.1941696, 0.14022...</td>\n",
       "      <td>0</td>\n",
       "    </tr>\n",
       "    <tr>\n",
       "      <th>1</th>\n",
       "      <td>ham</td>\n",
       "      <td>Ok lar... Joking wif u oni...</td>\n",
       "      <td>Ok lar Joking wif u oni</td>\n",
       "      <td>[Ok, lar, Joking, wif, u, oni]</td>\n",
       "      <td>[-0.032382872, 0.050584752, 0.20438838, 0.2317...</td>\n",
       "      <td>0</td>\n",
       "    </tr>\n",
       "    <tr>\n",
       "      <th>2</th>\n",
       "      <td>spam</td>\n",
       "      <td>Free entry in 2 a wkly comp to win FA Cup fina...</td>\n",
       "      <td>Free entry 2 wkly comp win FA Cup final tkts 2...</td>\n",
       "      <td>[Free, entry, 2, wkly, comp, win, FA, Cup, fin...</td>\n",
       "      <td>[0.15947482, -0.053918265, 0.5213842, 0.258954...</td>\n",
       "      <td>1</td>\n",
       "    </tr>\n",
       "    <tr>\n",
       "      <th>3</th>\n",
       "      <td>ham</td>\n",
       "      <td>U dun say so early hor... U c already then say...</td>\n",
       "      <td>U dun early hor U c</td>\n",
       "      <td>[U, dun, early, hor, U, c]</td>\n",
       "      <td>[-0.02320309, 0.16909455, 0.45780933, 0.290984...</td>\n",
       "      <td>0</td>\n",
       "    </tr>\n",
       "    <tr>\n",
       "      <th>4</th>\n",
       "      <td>ham</td>\n",
       "      <td>Nah I don't think he goes to usf, he lives aro...</td>\n",
       "      <td>Nah think goes usf lives</td>\n",
       "      <td>[Nah, think, goes, usf, lives]</td>\n",
       "      <td>[0.0016630044, -0.14553389, 0.13669881, 0.0975...</td>\n",
       "      <td>0</td>\n",
       "    </tr>\n",
       "    <tr>\n",
       "      <th>...</th>\n",
       "      <td>...</td>\n",
       "      <td>...</td>\n",
       "      <td>...</td>\n",
       "      <td>...</td>\n",
       "      <td>...</td>\n",
       "      <td>...</td>\n",
       "    </tr>\n",
       "    <tr>\n",
       "      <th>5567</th>\n",
       "      <td>spam</td>\n",
       "      <td>This is the 2nd time we have tried 2 contact u...</td>\n",
       "      <td>2nd time tried 2 contact u. U won å£750 Pound ...</td>\n",
       "      <td>[2nd, time, tried, 2, contact, u., U, won, å£7...</td>\n",
       "      <td>[0.02601188, 0.02583294, 0.589273, 0.38667053,...</td>\n",
       "      <td>1</td>\n",
       "    </tr>\n",
       "    <tr>\n",
       "      <th>5568</th>\n",
       "      <td>ham</td>\n",
       "      <td>Will Ì_ b going to esplanade fr home?</td>\n",
       "      <td>Ì b going esplanade fr home</td>\n",
       "      <td>[Ì, b, going, esplanade, fr, home]</td>\n",
       "      <td>[-0.072388284, 0.074673764, 0.24989645, 0.1870...</td>\n",
       "      <td>0</td>\n",
       "    </tr>\n",
       "    <tr>\n",
       "      <th>5569</th>\n",
       "      <td>ham</td>\n",
       "      <td>Pity, * was in mood for that. So...any other s...</td>\n",
       "      <td>Pity mood suggestions</td>\n",
       "      <td>[Pity, mood, suggestions]</td>\n",
       "      <td>[-0.017875627, -0.039422143, 0.08889976, 0.038...</td>\n",
       "      <td>0</td>\n",
       "    </tr>\n",
       "    <tr>\n",
       "      <th>5570</th>\n",
       "      <td>ham</td>\n",
       "      <td>The guy did some bitching but I acted like i'd...</td>\n",
       "      <td>guy bitching acted like interested buying week...</td>\n",
       "      <td>[guy, bitching, acted, like, interested, buyin...</td>\n",
       "      <td>[0.08287271, -0.0330132, 0.2767865, 0.10582992...</td>\n",
       "      <td>0</td>\n",
       "    </tr>\n",
       "    <tr>\n",
       "      <th>5571</th>\n",
       "      <td>ham</td>\n",
       "      <td>Rofl. Its true to its name</td>\n",
       "      <td>Rofl true</td>\n",
       "      <td>[Rofl, true]</td>\n",
       "      <td>[0.009140209, -0.047682375, 0.15178216, 0.1019...</td>\n",
       "      <td>0</td>\n",
       "    </tr>\n",
       "  </tbody>\n",
       "</table>\n",
       "<p>5572 rows × 6 columns</p>\n",
       "</div>"
      ],
      "text/plain": [
       "        v1                                                 v2  \\\n",
       "0      ham  Go until jurong point, crazy.. Available only ...   \n",
       "1      ham                      Ok lar... Joking wif u oni...   \n",
       "2     spam  Free entry in 2 a wkly comp to win FA Cup fina...   \n",
       "3      ham  U dun say so early hor... U c already then say...   \n",
       "4      ham  Nah I don't think he goes to usf, he lives aro...   \n",
       "...    ...                                                ...   \n",
       "5567  spam  This is the 2nd time we have tried 2 contact u...   \n",
       "5568   ham              Will Ì_ b going to esplanade fr home?   \n",
       "5569   ham  Pity, * was in mood for that. So...any other s...   \n",
       "5570   ham  The guy did some bitching but I acted like i'd...   \n",
       "5571   ham                         Rofl. Its true to its name   \n",
       "\n",
       "                                           cleaned_text  \\\n",
       "0     jurong point crazy Available bugis n great wor...   \n",
       "1                               Ok lar Joking wif u oni   \n",
       "2     Free entry 2 wkly comp win FA Cup final tkts 2...   \n",
       "3                                   U dun early hor U c   \n",
       "4                              Nah think goes usf lives   \n",
       "...                                                 ...   \n",
       "5567  2nd time tried 2 contact u. U won å£750 Pound ...   \n",
       "5568                        Ì b going esplanade fr home   \n",
       "5569                              Pity mood suggestions   \n",
       "5570  guy bitching acted like interested buying week...   \n",
       "5571                                          Rofl true   \n",
       "\n",
       "                                         tokenized_text  \\\n",
       "0     [jurong, point, crazy, Available, bugis, n, gr...   \n",
       "1                        [Ok, lar, Joking, wif, u, oni]   \n",
       "2     [Free, entry, 2, wkly, comp, win, FA, Cup, fin...   \n",
       "3                            [U, dun, early, hor, U, c]   \n",
       "4                        [Nah, think, goes, usf, lives]   \n",
       "...                                                 ...   \n",
       "5567  [2nd, time, tried, 2, contact, u., U, won, å£7...   \n",
       "5568                 [Ì, b, going, esplanade, fr, home]   \n",
       "5569                          [Pity, mood, suggestions]   \n",
       "5570  [guy, bitching, acted, like, interested, buyin...   \n",
       "5571                                       [Rofl, true]   \n",
       "\n",
       "                                        word_embeddings  class  \n",
       "0     [0.005591023, -0.009304361, 0.1941696, 0.14022...      0  \n",
       "1     [-0.032382872, 0.050584752, 0.20438838, 0.2317...      0  \n",
       "2     [0.15947482, -0.053918265, 0.5213842, 0.258954...      1  \n",
       "3     [-0.02320309, 0.16909455, 0.45780933, 0.290984...      0  \n",
       "4     [0.0016630044, -0.14553389, 0.13669881, 0.0975...      0  \n",
       "...                                                 ...    ...  \n",
       "5567  [0.02601188, 0.02583294, 0.589273, 0.38667053,...      1  \n",
       "5568  [-0.072388284, 0.074673764, 0.24989645, 0.1870...      0  \n",
       "5569  [-0.017875627, -0.039422143, 0.08889976, 0.038...      0  \n",
       "5570  [0.08287271, -0.0330132, 0.2767865, 0.10582992...      0  \n",
       "5571  [0.009140209, -0.047682375, 0.15178216, 0.1019...      0  \n",
       "\n",
       "[5572 rows x 6 columns]"
      ]
     },
     "execution_count": 579,
     "metadata": {},
     "output_type": "execute_result"
    }
   ],
   "source": [
    "\n",
    "df"
   ]
  },
  {
   "cell_type": "code",
   "execution_count": 580,
   "id": "fcca8f01",
   "metadata": {},
   "outputs": [],
   "source": [
    "df['class'] = df['v1'].apply(lambda x: 0 if x == 'ham' else 1)"
   ]
  },
  {
   "cell_type": "code",
   "execution_count": 581,
   "id": "d8113801",
   "metadata": {},
   "outputs": [],
   "source": [
    "df_final = df[['word_embeddings','class']]"
   ]
  },
  {
   "cell_type": "code",
   "execution_count": 582,
   "id": "b3f11273",
   "metadata": {},
   "outputs": [
    {
     "data": {
      "text/html": [
       "<div>\n",
       "<style scoped>\n",
       "    .dataframe tbody tr th:only-of-type {\n",
       "        vertical-align: middle;\n",
       "    }\n",
       "\n",
       "    .dataframe tbody tr th {\n",
       "        vertical-align: top;\n",
       "    }\n",
       "\n",
       "    .dataframe thead th {\n",
       "        text-align: right;\n",
       "    }\n",
       "</style>\n",
       "<table border=\"1\" class=\"dataframe\">\n",
       "  <thead>\n",
       "    <tr style=\"text-align: right;\">\n",
       "      <th></th>\n",
       "      <th>word_embeddings</th>\n",
       "      <th>class</th>\n",
       "    </tr>\n",
       "  </thead>\n",
       "  <tbody>\n",
       "    <tr>\n",
       "      <th>0</th>\n",
       "      <td>[0.005591023, -0.009304361, 0.1941696, 0.14022...</td>\n",
       "      <td>0</td>\n",
       "    </tr>\n",
       "    <tr>\n",
       "      <th>1</th>\n",
       "      <td>[-0.032382872, 0.050584752, 0.20438838, 0.2317...</td>\n",
       "      <td>0</td>\n",
       "    </tr>\n",
       "    <tr>\n",
       "      <th>2</th>\n",
       "      <td>[0.15947482, -0.053918265, 0.5213842, 0.258954...</td>\n",
       "      <td>1</td>\n",
       "    </tr>\n",
       "    <tr>\n",
       "      <th>3</th>\n",
       "      <td>[-0.02320309, 0.16909455, 0.45780933, 0.290984...</td>\n",
       "      <td>0</td>\n",
       "    </tr>\n",
       "    <tr>\n",
       "      <th>4</th>\n",
       "      <td>[0.0016630044, -0.14553389, 0.13669881, 0.0975...</td>\n",
       "      <td>0</td>\n",
       "    </tr>\n",
       "    <tr>\n",
       "      <th>...</th>\n",
       "      <td>...</td>\n",
       "      <td>...</td>\n",
       "    </tr>\n",
       "    <tr>\n",
       "      <th>5567</th>\n",
       "      <td>[0.02601188, 0.02583294, 0.589273, 0.38667053,...</td>\n",
       "      <td>1</td>\n",
       "    </tr>\n",
       "    <tr>\n",
       "      <th>5568</th>\n",
       "      <td>[-0.072388284, 0.074673764, 0.24989645, 0.1870...</td>\n",
       "      <td>0</td>\n",
       "    </tr>\n",
       "    <tr>\n",
       "      <th>5569</th>\n",
       "      <td>[-0.017875627, -0.039422143, 0.08889976, 0.038...</td>\n",
       "      <td>0</td>\n",
       "    </tr>\n",
       "    <tr>\n",
       "      <th>5570</th>\n",
       "      <td>[0.08287271, -0.0330132, 0.2767865, 0.10582992...</td>\n",
       "      <td>0</td>\n",
       "    </tr>\n",
       "    <tr>\n",
       "      <th>5571</th>\n",
       "      <td>[0.009140209, -0.047682375, 0.15178216, 0.1019...</td>\n",
       "      <td>0</td>\n",
       "    </tr>\n",
       "  </tbody>\n",
       "</table>\n",
       "<p>5572 rows × 2 columns</p>\n",
       "</div>"
      ],
      "text/plain": [
       "                                        word_embeddings  class\n",
       "0     [0.005591023, -0.009304361, 0.1941696, 0.14022...      0\n",
       "1     [-0.032382872, 0.050584752, 0.20438838, 0.2317...      0\n",
       "2     [0.15947482, -0.053918265, 0.5213842, 0.258954...      1\n",
       "3     [-0.02320309, 0.16909455, 0.45780933, 0.290984...      0\n",
       "4     [0.0016630044, -0.14553389, 0.13669881, 0.0975...      0\n",
       "...                                                 ...    ...\n",
       "5567  [0.02601188, 0.02583294, 0.589273, 0.38667053,...      1\n",
       "5568  [-0.072388284, 0.074673764, 0.24989645, 0.1870...      0\n",
       "5569  [-0.017875627, -0.039422143, 0.08889976, 0.038...      0\n",
       "5570  [0.08287271, -0.0330132, 0.2767865, 0.10582992...      0\n",
       "5571  [0.009140209, -0.047682375, 0.15178216, 0.1019...      0\n",
       "\n",
       "[5572 rows x 2 columns]"
      ]
     },
     "execution_count": 582,
     "metadata": {},
     "output_type": "execute_result"
    }
   ],
   "source": [
    "df_final"
   ]
  },
  {
   "cell_type": "code",
   "execution_count": 583,
   "id": "f2e184f7",
   "metadata": {},
   "outputs": [],
   "source": [
    "#Train test split\n",
    "from sklearn.model_selection import train_test_split"
   ]
  },
  {
   "cell_type": "code",
   "execution_count": 584,
   "id": "ce4b9e07",
   "metadata": {},
   "outputs": [],
   "source": [
    "X = df_final['word_embeddings']"
   ]
  },
  {
   "cell_type": "code",
   "execution_count": 585,
   "id": "7b4932b1",
   "metadata": {},
   "outputs": [],
   "source": [
    "y = df_final['class']"
   ]
  },
  {
   "cell_type": "code",
   "execution_count": 586,
   "id": "7013a7ac",
   "metadata": {},
   "outputs": [],
   "source": [
    "X= np.vstack(X)"
   ]
  },
  {
   "cell_type": "code",
   "execution_count": 587,
   "id": "f1102af5",
   "metadata": {},
   "outputs": [],
   "source": [
    "X_train, X_test, y_train, y_test = train_test_split(X, y, test_size=0.2, random_state=42)"
   ]
  },
  {
   "cell_type": "code",
   "execution_count": 588,
   "id": "182ac3ca",
   "metadata": {},
   "outputs": [],
   "source": [
    "#Using Dense neural network for classification task\n",
    "from keras.models import Sequential\n",
    "from keras.layers import Dense"
   ]
  },
  {
   "cell_type": "code",
   "execution_count": 589,
   "id": "7259cc6e",
   "metadata": {},
   "outputs": [],
   "source": [
    "model = Sequential()\n",
    "model.add(Dense(128, input_dim=20, activation='relu'))\n",
    "model.add(Dense(64,activation='relu'))\n",
    "model.add(Dense(32,activation='relu'))\n",
    "model.add(Dense(1, activation='sigmoid'))"
   ]
  },
  {
   "cell_type": "code",
   "execution_count": 590,
   "id": "a9625dd2",
   "metadata": {},
   "outputs": [],
   "source": [
    "model.compile(loss='binary_crossentropy', optimizer='adam', metrics=['accuracy'])\n"
   ]
  },
  {
   "cell_type": "code",
   "execution_count": 591,
   "id": "f2e9e9ce",
   "metadata": {},
   "outputs": [
    {
     "name": "stdout",
     "output_type": "stream",
     "text": [
      "Epoch 1/120\n",
      "502/502 [==============================] - 2s 2ms/step - loss: 0.1924 - accuracy: 0.9307 - val_loss: 0.1742 - val_accuracy: 0.9439\n",
      "Epoch 2/120\n",
      "502/502 [==============================] - 1s 2ms/step - loss: 0.1319 - accuracy: 0.9524 - val_loss: 0.1700 - val_accuracy: 0.9350\n",
      "Epoch 3/120\n",
      "502/502 [==============================] - 1s 2ms/step - loss: 0.1280 - accuracy: 0.9554 - val_loss: 0.1774 - val_accuracy: 0.9372\n",
      "Epoch 4/120\n",
      "502/502 [==============================] - 1s 2ms/step - loss: 0.1256 - accuracy: 0.9584 - val_loss: 0.1545 - val_accuracy: 0.9507\n",
      "Epoch 5/120\n",
      "502/502 [==============================] - 1s 1ms/step - loss: 0.1244 - accuracy: 0.9589 - val_loss: 0.2049 - val_accuracy: 0.9350\n",
      "Epoch 6/120\n",
      "502/502 [==============================] - 1s 2ms/step - loss: 0.1250 - accuracy: 0.9579 - val_loss: 0.1527 - val_accuracy: 0.9439\n",
      "Epoch 7/120\n",
      "502/502 [==============================] - 1s 2ms/step - loss: 0.1193 - accuracy: 0.9599 - val_loss: 0.1736 - val_accuracy: 0.9350\n",
      "Epoch 8/120\n",
      "502/502 [==============================] - 1s 2ms/step - loss: 0.1221 - accuracy: 0.9571 - val_loss: 0.1641 - val_accuracy: 0.9417\n",
      "Epoch 9/120\n",
      "502/502 [==============================] - 1s 2ms/step - loss: 0.1179 - accuracy: 0.9591 - val_loss: 0.1576 - val_accuracy: 0.9507\n",
      "Epoch 10/120\n",
      "502/502 [==============================] - 1s 2ms/step - loss: 0.1164 - accuracy: 0.9606 - val_loss: 0.1592 - val_accuracy: 0.9529\n",
      "Epoch 11/120\n",
      "502/502 [==============================] - 1s 2ms/step - loss: 0.1170 - accuracy: 0.9606 - val_loss: 0.1556 - val_accuracy: 0.9484\n",
      "Epoch 12/120\n",
      "502/502 [==============================] - 1s 2ms/step - loss: 0.1158 - accuracy: 0.9599 - val_loss: 0.1817 - val_accuracy: 0.9417\n",
      "Epoch 13/120\n",
      "502/502 [==============================] - 1s 2ms/step - loss: 0.1181 - accuracy: 0.9621 - val_loss: 0.1630 - val_accuracy: 0.9462\n",
      "Epoch 14/120\n",
      "502/502 [==============================] - 1s 2ms/step - loss: 0.1161 - accuracy: 0.9596 - val_loss: 0.1489 - val_accuracy: 0.9552\n",
      "Epoch 15/120\n",
      "502/502 [==============================] - 1s 2ms/step - loss: 0.1165 - accuracy: 0.9596 - val_loss: 0.1494 - val_accuracy: 0.9529\n",
      "Epoch 16/120\n",
      "502/502 [==============================] - 1s 2ms/step - loss: 0.1120 - accuracy: 0.9648 - val_loss: 0.1524 - val_accuracy: 0.9462\n",
      "Epoch 17/120\n",
      "502/502 [==============================] - 1s 2ms/step - loss: 0.1119 - accuracy: 0.9604 - val_loss: 0.1480 - val_accuracy: 0.9529\n",
      "Epoch 18/120\n",
      "502/502 [==============================] - 1s 2ms/step - loss: 0.1127 - accuracy: 0.9634 - val_loss: 0.1448 - val_accuracy: 0.9552\n",
      "Epoch 19/120\n",
      "502/502 [==============================] - 1s 1ms/step - loss: 0.1112 - accuracy: 0.9619 - val_loss: 0.1538 - val_accuracy: 0.9484\n",
      "Epoch 20/120\n",
      "502/502 [==============================] - 1s 2ms/step - loss: 0.1117 - accuracy: 0.9621 - val_loss: 0.1481 - val_accuracy: 0.9552\n",
      "Epoch 21/120\n",
      "502/502 [==============================] - 1s 2ms/step - loss: 0.1103 - accuracy: 0.9621 - val_loss: 0.1453 - val_accuracy: 0.9529\n",
      "Epoch 22/120\n",
      "502/502 [==============================] - 1s 1ms/step - loss: 0.1079 - accuracy: 0.9643 - val_loss: 0.1542 - val_accuracy: 0.9552\n",
      "Epoch 23/120\n",
      "502/502 [==============================] - 1s 1ms/step - loss: 0.1074 - accuracy: 0.9658 - val_loss: 0.1438 - val_accuracy: 0.9529\n",
      "Epoch 24/120\n",
      "502/502 [==============================] - 1s 1ms/step - loss: 0.1052 - accuracy: 0.9651 - val_loss: 0.1446 - val_accuracy: 0.9529\n",
      "Epoch 25/120\n",
      "502/502 [==============================] - 1s 1ms/step - loss: 0.1076 - accuracy: 0.9646 - val_loss: 0.1553 - val_accuracy: 0.9507\n",
      "Epoch 26/120\n",
      "502/502 [==============================] - 1s 1ms/step - loss: 0.1060 - accuracy: 0.9626 - val_loss: 0.1422 - val_accuracy: 0.9552\n",
      "Epoch 27/120\n",
      "502/502 [==============================] - 1s 1ms/step - loss: 0.1066 - accuracy: 0.9636 - val_loss: 0.1523 - val_accuracy: 0.9484\n",
      "Epoch 28/120\n",
      "502/502 [==============================] - 1s 2ms/step - loss: 0.1030 - accuracy: 0.9648 - val_loss: 0.1639 - val_accuracy: 0.9507\n",
      "Epoch 29/120\n",
      "502/502 [==============================] - 1s 2ms/step - loss: 0.1061 - accuracy: 0.9621 - val_loss: 0.1501 - val_accuracy: 0.9552\n",
      "Epoch 30/120\n",
      "502/502 [==============================] - 1s 1ms/step - loss: 0.1038 - accuracy: 0.9658 - val_loss: 0.1442 - val_accuracy: 0.9529\n",
      "Epoch 31/120\n",
      "502/502 [==============================] - 1s 1ms/step - loss: 0.1020 - accuracy: 0.9666 - val_loss: 0.1468 - val_accuracy: 0.9552\n",
      "Epoch 32/120\n",
      "502/502 [==============================] - 1s 1ms/step - loss: 0.1033 - accuracy: 0.9646 - val_loss: 0.1531 - val_accuracy: 0.9484\n",
      "Epoch 33/120\n",
      "502/502 [==============================] - 1s 1ms/step - loss: 0.1004 - accuracy: 0.9658 - val_loss: 0.1569 - val_accuracy: 0.9439\n",
      "Epoch 34/120\n",
      "502/502 [==============================] - 1s 1ms/step - loss: 0.1022 - accuracy: 0.9668 - val_loss: 0.1377 - val_accuracy: 0.9484\n",
      "Epoch 35/120\n",
      "502/502 [==============================] - 1s 1ms/step - loss: 0.1011 - accuracy: 0.9663 - val_loss: 0.1437 - val_accuracy: 0.9552\n",
      "Epoch 36/120\n",
      "502/502 [==============================] - 1s 1ms/step - loss: 0.0993 - accuracy: 0.9671 - val_loss: 0.1500 - val_accuracy: 0.9507\n",
      "Epoch 37/120\n",
      "502/502 [==============================] - 1s 1ms/step - loss: 0.0993 - accuracy: 0.9671 - val_loss: 0.1665 - val_accuracy: 0.9417\n",
      "Epoch 38/120\n",
      "502/502 [==============================] - 1s 1ms/step - loss: 0.1019 - accuracy: 0.9658 - val_loss: 0.1468 - val_accuracy: 0.9529\n",
      "Epoch 39/120\n",
      "502/502 [==============================] - 1s 1ms/step - loss: 0.1006 - accuracy: 0.9658 - val_loss: 0.1581 - val_accuracy: 0.9529\n",
      "Epoch 40/120\n",
      "502/502 [==============================] - 1s 1ms/step - loss: 0.0988 - accuracy: 0.9661 - val_loss: 0.1476 - val_accuracy: 0.9529\n",
      "Epoch 41/120\n",
      "502/502 [==============================] - 1s 2ms/step - loss: 0.0991 - accuracy: 0.9653 - val_loss: 0.1445 - val_accuracy: 0.9552\n",
      "Epoch 42/120\n",
      "502/502 [==============================] - 1s 1ms/step - loss: 0.0973 - accuracy: 0.9656 - val_loss: 0.1462 - val_accuracy: 0.9507\n",
      "Epoch 43/120\n",
      "502/502 [==============================] - 1s 2ms/step - loss: 0.0954 - accuracy: 0.9661 - val_loss: 0.1653 - val_accuracy: 0.9484\n",
      "Epoch 44/120\n",
      "502/502 [==============================] - 1s 1ms/step - loss: 0.0936 - accuracy: 0.9703 - val_loss: 0.1553 - val_accuracy: 0.9552\n",
      "Epoch 45/120\n",
      "502/502 [==============================] - 1s 1ms/step - loss: 0.0964 - accuracy: 0.9656 - val_loss: 0.1542 - val_accuracy: 0.9529\n",
      "Epoch 46/120\n",
      "502/502 [==============================] - 1s 1ms/step - loss: 0.0957 - accuracy: 0.9661 - val_loss: 0.1441 - val_accuracy: 0.9529\n",
      "Epoch 47/120\n",
      "502/502 [==============================] - 1s 1ms/step - loss: 0.0928 - accuracy: 0.9698 - val_loss: 0.1703 - val_accuracy: 0.9529\n",
      "Epoch 48/120\n",
      "502/502 [==============================] - 1s 1ms/step - loss: 0.0925 - accuracy: 0.9673 - val_loss: 0.1535 - val_accuracy: 0.9552\n",
      "Epoch 49/120\n",
      "502/502 [==============================] - 1s 1ms/step - loss: 0.0925 - accuracy: 0.9701 - val_loss: 0.1571 - val_accuracy: 0.9574\n",
      "Epoch 50/120\n",
      "502/502 [==============================] - 1s 1ms/step - loss: 0.0934 - accuracy: 0.9681 - val_loss: 0.1718 - val_accuracy: 0.9417\n",
      "Epoch 51/120\n",
      "502/502 [==============================] - 1s 1ms/step - loss: 0.0918 - accuracy: 0.9696 - val_loss: 0.1541 - val_accuracy: 0.9507\n",
      "Epoch 52/120\n",
      "502/502 [==============================] - 1s 1ms/step - loss: 0.0932 - accuracy: 0.9658 - val_loss: 0.1525 - val_accuracy: 0.9529\n",
      "Epoch 53/120\n",
      "502/502 [==============================] - 1s 1ms/step - loss: 0.0908 - accuracy: 0.9676 - val_loss: 0.1427 - val_accuracy: 0.9552\n",
      "Epoch 54/120\n",
      "502/502 [==============================] - 1s 1ms/step - loss: 0.0880 - accuracy: 0.9701 - val_loss: 0.1500 - val_accuracy: 0.9484\n",
      "Epoch 55/120\n",
      "502/502 [==============================] - 1s 1ms/step - loss: 0.0888 - accuracy: 0.9683 - val_loss: 0.1581 - val_accuracy: 0.9552\n",
      "Epoch 56/120\n",
      "502/502 [==============================] - 1s 1ms/step - loss: 0.0885 - accuracy: 0.9691 - val_loss: 0.1842 - val_accuracy: 0.9350\n",
      "Epoch 57/120\n",
      "502/502 [==============================] - 1s 2ms/step - loss: 0.0890 - accuracy: 0.9688 - val_loss: 0.1499 - val_accuracy: 0.9574\n"
     ]
    },
    {
     "name": "stdout",
     "output_type": "stream",
     "text": [
      "Epoch 58/120\n",
      "502/502 [==============================] - 1s 1ms/step - loss: 0.0919 - accuracy: 0.9676 - val_loss: 0.1488 - val_accuracy: 0.9552\n",
      "Epoch 59/120\n",
      "502/502 [==============================] - 1s 1ms/step - loss: 0.0877 - accuracy: 0.9698 - val_loss: 0.1636 - val_accuracy: 0.9529\n",
      "Epoch 60/120\n",
      "502/502 [==============================] - 1s 1ms/step - loss: 0.0864 - accuracy: 0.9718 - val_loss: 0.1542 - val_accuracy: 0.9574\n",
      "Epoch 61/120\n",
      "502/502 [==============================] - 1s 1ms/step - loss: 0.0856 - accuracy: 0.9688 - val_loss: 0.1466 - val_accuracy: 0.9507\n",
      "Epoch 62/120\n",
      "502/502 [==============================] - 1s 2ms/step - loss: 0.0849 - accuracy: 0.9706 - val_loss: 0.1478 - val_accuracy: 0.9574\n",
      "Epoch 63/120\n",
      "502/502 [==============================] - 1s 2ms/step - loss: 0.0832 - accuracy: 0.9693 - val_loss: 0.1593 - val_accuracy: 0.9574\n",
      "Epoch 64/120\n",
      "502/502 [==============================] - 1s 2ms/step - loss: 0.0839 - accuracy: 0.9723 - val_loss: 0.1559 - val_accuracy: 0.9507\n",
      "Epoch 65/120\n",
      "502/502 [==============================] - 1s 2ms/step - loss: 0.0842 - accuracy: 0.9711 - val_loss: 0.1506 - val_accuracy: 0.9574\n",
      "Epoch 66/120\n",
      "502/502 [==============================] - 1s 2ms/step - loss: 0.0834 - accuracy: 0.9738 - val_loss: 0.1547 - val_accuracy: 0.9596\n",
      "Epoch 67/120\n",
      "502/502 [==============================] - 1s 1ms/step - loss: 0.0807 - accuracy: 0.9711 - val_loss: 0.1756 - val_accuracy: 0.9529\n",
      "Epoch 68/120\n",
      "502/502 [==============================] - 1s 2ms/step - loss: 0.0833 - accuracy: 0.9718 - val_loss: 0.1622 - val_accuracy: 0.9552\n",
      "Epoch 69/120\n",
      "502/502 [==============================] - 1s 2ms/step - loss: 0.0796 - accuracy: 0.9728 - val_loss: 0.1781 - val_accuracy: 0.9507\n",
      "Epoch 70/120\n",
      "502/502 [==============================] - 1s 1ms/step - loss: 0.0801 - accuracy: 0.9731 - val_loss: 0.1777 - val_accuracy: 0.9529\n",
      "Epoch 71/120\n",
      "502/502 [==============================] - 1s 2ms/step - loss: 0.0815 - accuracy: 0.9733 - val_loss: 0.1742 - val_accuracy: 0.9552\n",
      "Epoch 72/120\n",
      "502/502 [==============================] - 1s 2ms/step - loss: 0.0816 - accuracy: 0.9703 - val_loss: 0.1691 - val_accuracy: 0.9574\n",
      "Epoch 73/120\n",
      "502/502 [==============================] - 1s 1ms/step - loss: 0.0866 - accuracy: 0.9686 - val_loss: 0.1590 - val_accuracy: 0.9529\n",
      "Epoch 74/120\n",
      "502/502 [==============================] - 1s 2ms/step - loss: 0.0785 - accuracy: 0.9731 - val_loss: 0.1680 - val_accuracy: 0.9552\n",
      "Epoch 75/120\n",
      "502/502 [==============================] - 1s 2ms/step - loss: 0.0794 - accuracy: 0.9713 - val_loss: 0.1867 - val_accuracy: 0.9507\n",
      "Epoch 76/120\n",
      "502/502 [==============================] - 1s 2ms/step - loss: 0.0777 - accuracy: 0.9738 - val_loss: 0.1847 - val_accuracy: 0.9417\n",
      "Epoch 77/120\n",
      "502/502 [==============================] - 1s 2ms/step - loss: 0.0772 - accuracy: 0.9741 - val_loss: 0.1614 - val_accuracy: 0.9507\n",
      "Epoch 78/120\n",
      "502/502 [==============================] - 1s 2ms/step - loss: 0.0806 - accuracy: 0.9698 - val_loss: 0.1771 - val_accuracy: 0.9552\n",
      "Epoch 79/120\n",
      "502/502 [==============================] - 1s 2ms/step - loss: 0.0779 - accuracy: 0.9728 - val_loss: 0.1606 - val_accuracy: 0.9574\n",
      "Epoch 80/120\n",
      "502/502 [==============================] - 1s 2ms/step - loss: 0.0745 - accuracy: 0.9748 - val_loss: 0.1713 - val_accuracy: 0.9574\n",
      "Epoch 81/120\n",
      "502/502 [==============================] - 1s 2ms/step - loss: 0.0762 - accuracy: 0.9718 - val_loss: 0.1680 - val_accuracy: 0.9574\n",
      "Epoch 82/120\n",
      "502/502 [==============================] - 1s 1ms/step - loss: 0.0771 - accuracy: 0.9746 - val_loss: 0.1724 - val_accuracy: 0.9529\n",
      "Epoch 83/120\n",
      "502/502 [==============================] - 1s 1ms/step - loss: 0.0755 - accuracy: 0.9741 - val_loss: 0.1604 - val_accuracy: 0.9574\n",
      "Epoch 84/120\n",
      "502/502 [==============================] - 1s 1ms/step - loss: 0.0789 - accuracy: 0.9718 - val_loss: 0.1595 - val_accuracy: 0.9529\n",
      "Epoch 85/120\n",
      "502/502 [==============================] - 1s 2ms/step - loss: 0.0759 - accuracy: 0.9733 - val_loss: 0.1706 - val_accuracy: 0.9529\n",
      "Epoch 86/120\n",
      "502/502 [==============================] - 1s 1ms/step - loss: 0.0728 - accuracy: 0.9738 - val_loss: 0.1671 - val_accuracy: 0.9507\n",
      "Epoch 87/120\n",
      "502/502 [==============================] - 1s 1ms/step - loss: 0.0724 - accuracy: 0.9736 - val_loss: 0.1934 - val_accuracy: 0.9529\n",
      "Epoch 88/120\n",
      "502/502 [==============================] - 1s 1ms/step - loss: 0.0749 - accuracy: 0.9741 - val_loss: 0.1711 - val_accuracy: 0.9596\n",
      "Epoch 89/120\n",
      "502/502 [==============================] - 1s 1ms/step - loss: 0.0730 - accuracy: 0.9726 - val_loss: 0.1676 - val_accuracy: 0.9529\n",
      "Epoch 90/120\n",
      "502/502 [==============================] - 1s 1ms/step - loss: 0.0688 - accuracy: 0.9761 - val_loss: 0.1823 - val_accuracy: 0.9484\n",
      "Epoch 91/120\n",
      "502/502 [==============================] - 1s 2ms/step - loss: 0.0719 - accuracy: 0.9733 - val_loss: 0.1678 - val_accuracy: 0.9574\n",
      "Epoch 92/120\n",
      "502/502 [==============================] - 1s 2ms/step - loss: 0.0727 - accuracy: 0.9746 - val_loss: 0.1688 - val_accuracy: 0.9552\n",
      "Epoch 93/120\n",
      "502/502 [==============================] - 1s 2ms/step - loss: 0.0707 - accuracy: 0.9753 - val_loss: 0.1735 - val_accuracy: 0.9552\n",
      "Epoch 94/120\n",
      "502/502 [==============================] - 1s 2ms/step - loss: 0.0735 - accuracy: 0.9711 - val_loss: 0.2051 - val_accuracy: 0.9529\n",
      "Epoch 95/120\n",
      "502/502 [==============================] - 1s 2ms/step - loss: 0.0726 - accuracy: 0.9748 - val_loss: 0.1726 - val_accuracy: 0.9462\n",
      "Epoch 96/120\n",
      "502/502 [==============================] - 1s 1ms/step - loss: 0.0729 - accuracy: 0.9756 - val_loss: 0.1975 - val_accuracy: 0.9574\n",
      "Epoch 97/120\n",
      "502/502 [==============================] - 1s 1ms/step - loss: 0.0661 - accuracy: 0.9768 - val_loss: 0.1819 - val_accuracy: 0.9395\n",
      "Epoch 98/120\n",
      "502/502 [==============================] - 1s 1ms/step - loss: 0.0746 - accuracy: 0.9741 - val_loss: 0.1810 - val_accuracy: 0.9507\n",
      "Epoch 99/120\n",
      "502/502 [==============================] - 1s 2ms/step - loss: 0.0715 - accuracy: 0.9746 - val_loss: 0.1682 - val_accuracy: 0.9552\n",
      "Epoch 100/120\n",
      "502/502 [==============================] - 1s 2ms/step - loss: 0.0670 - accuracy: 0.9756 - val_loss: 0.1891 - val_accuracy: 0.9552\n",
      "Epoch 101/120\n",
      "502/502 [==============================] - 1s 2ms/step - loss: 0.0661 - accuracy: 0.9763 - val_loss: 0.1997 - val_accuracy: 0.9529\n",
      "Epoch 102/120\n",
      "502/502 [==============================] - 1s 2ms/step - loss: 0.0692 - accuracy: 0.9746 - val_loss: 0.2224 - val_accuracy: 0.9507\n",
      "Epoch 103/120\n",
      "502/502 [==============================] - 1s 2ms/step - loss: 0.0719 - accuracy: 0.9746 - val_loss: 0.1801 - val_accuracy: 0.9507\n",
      "Epoch 104/120\n",
      "502/502 [==============================] - 1s 2ms/step - loss: 0.0680 - accuracy: 0.9768 - val_loss: 0.1895 - val_accuracy: 0.9552\n",
      "Epoch 105/120\n",
      "502/502 [==============================] - 1s 2ms/step - loss: 0.0667 - accuracy: 0.9771 - val_loss: 0.1704 - val_accuracy: 0.9507\n",
      "Epoch 106/120\n",
      "502/502 [==============================] - 1s 2ms/step - loss: 0.0650 - accuracy: 0.9776 - val_loss: 0.1789 - val_accuracy: 0.9484\n",
      "Epoch 107/120\n",
      "502/502 [==============================] - 1s 2ms/step - loss: 0.0637 - accuracy: 0.9773 - val_loss: 0.1805 - val_accuracy: 0.9462\n",
      "Epoch 108/120\n",
      "502/502 [==============================] - 1s 2ms/step - loss: 0.0646 - accuracy: 0.9761 - val_loss: 0.2391 - val_accuracy: 0.9507\n",
      "Epoch 109/120\n",
      "502/502 [==============================] - 1s 2ms/step - loss: 0.0651 - accuracy: 0.9771 - val_loss: 0.2532 - val_accuracy: 0.9439\n",
      "Epoch 110/120\n",
      "502/502 [==============================] - 1s 2ms/step - loss: 0.0666 - accuracy: 0.9763 - val_loss: 0.1813 - val_accuracy: 0.9552\n",
      "Epoch 111/120\n",
      "502/502 [==============================] - 1s 2ms/step - loss: 0.0641 - accuracy: 0.9753 - val_loss: 0.2086 - val_accuracy: 0.9484\n",
      "Epoch 112/120\n",
      "502/502 [==============================] - 1s 2ms/step - loss: 0.0656 - accuracy: 0.9768 - val_loss: 0.1917 - val_accuracy: 0.9462\n",
      "Epoch 113/120\n",
      "502/502 [==============================] - 1s 2ms/step - loss: 0.0611 - accuracy: 0.9781 - val_loss: 0.2060 - val_accuracy: 0.9350\n",
      "Epoch 114/120\n",
      "502/502 [==============================] - 1s 2ms/step - loss: 0.0629 - accuracy: 0.9791 - val_loss: 0.1889 - val_accuracy: 0.9574\n"
     ]
    },
    {
     "name": "stdout",
     "output_type": "stream",
     "text": [
      "Epoch 115/120\n",
      "502/502 [==============================] - 1s 2ms/step - loss: 0.0647 - accuracy: 0.9763 - val_loss: 0.2048 - val_accuracy: 0.9462\n",
      "Epoch 116/120\n",
      "502/502 [==============================] - 1s 2ms/step - loss: 0.0685 - accuracy: 0.9756 - val_loss: 0.1906 - val_accuracy: 0.9439\n",
      "Epoch 117/120\n",
      "502/502 [==============================] - 1s 2ms/step - loss: 0.0626 - accuracy: 0.9776 - val_loss: 0.1771 - val_accuracy: 0.9417\n",
      "Epoch 118/120\n",
      "502/502 [==============================] - 1s 2ms/step - loss: 0.0603 - accuracy: 0.9778 - val_loss: 0.2022 - val_accuracy: 0.9507\n",
      "Epoch 119/120\n",
      "502/502 [==============================] - 1s 2ms/step - loss: 0.0591 - accuracy: 0.9791 - val_loss: 0.1842 - val_accuracy: 0.9507\n",
      "Epoch 120/120\n",
      "502/502 [==============================] - 1s 1ms/step - loss: 0.0586 - accuracy: 0.9786 - val_loss: 0.2122 - val_accuracy: 0.9484\n"
     ]
    },
    {
     "data": {
      "text/plain": [
       "<keras.callbacks.History at 0x205ca0e0d60>"
      ]
     },
     "execution_count": 591,
     "metadata": {},
     "output_type": "execute_result"
    }
   ],
   "source": [
    "epochs = 120 \n",
    "batch_size = 8\n",
    "model.fit(X_train, y_train, epochs=epochs, batch_size=batch_size, validation_split=0.1)\n"
   ]
  },
  {
   "cell_type": "code",
   "execution_count": 592,
   "id": "fbf0f8c4",
   "metadata": {},
   "outputs": [
    {
     "name": "stdout",
     "output_type": "stream",
     "text": [
      "35/35 [==============================] - 0s 2ms/step - loss: 0.1988 - accuracy: 0.9650\n"
     ]
    }
   ],
   "source": [
    "res = model.evaluate(X_test, y_test)"
   ]
  },
  {
   "cell_type": "code",
   "execution_count": 593,
   "id": "82f79b99",
   "metadata": {},
   "outputs": [
    {
     "name": "stdout",
     "output_type": "stream",
     "text": [
      "140/140 [==============================] - 0s 953us/step\n"
     ]
    }
   ],
   "source": [
    "#Generating predictions\n",
    "y_train_pred = model.predict(X_train)"
   ]
  },
  {
   "cell_type": "code",
   "execution_count": 594,
   "id": "bc42c49a",
   "metadata": {},
   "outputs": [],
   "source": [
    "#Generating ROC Curve\n",
    "from sklearn.metrics import roc_curve, auc\n",
    "import matplotlib.pyplot as plt"
   ]
  },
  {
   "cell_type": "code",
   "execution_count": 615,
   "id": "2e20e05a",
   "metadata": {},
   "outputs": [
    {
     "data": {
      "image/png": "[encoded data removed]",
      "text/plain": [
       "<Figure size 800x600 with 1 Axes>"
      ]
     },
     "metadata": {},
     "output_type": "display_data"
    }
   ],
   "source": [
    "fpr, tpr, thresholds = roc_curve(y_train, y_train_pred)\n",
    "roc_auc = auc(fpr, tpr)\n",
    "\n",
    "# Plot ROC curve\n",
    "plt.figure(figsize=(8, 6))\n",
    "plt.plot(fpr, tpr, color='darkorange', lw=2, label='ROC curve (area = {:.2f})'.format(roc_auc))\n",
    "plt.plot([0, 1], [0, 1], color='navy', lw=2, linestyle='--')\n",
    "plt.xlim([0.0, 1.0])\n",
    "plt.ylim([0.0, 1.05])\n",
    "plt.xlabel('False Positive Rate')\n",
    "plt.ylabel('True Positive Rate')\n",
    "plt.title('Receiver Operating Characteristic (ROC) Curve for train data')\n",
    "plt.legend(loc=\"lower right\")\n",
    "plt.show()"
   ]
  },
  {
   "cell_type": "code",
   "execution_count": 616,
   "id": "f896e14a",
   "metadata": {},
   "outputs": [
    {
     "name": "stdout",
     "output_type": "stream",
     "text": [
      "35/35 [==============================] - 0s 1ms/step\n"
     ]
    }
   ],
   "source": [
    "y_test_pred = model.predict(X_test)"
   ]
  },
  {
   "cell_type": "code",
   "execution_count": 617,
   "id": "897ca50d",
   "metadata": {},
   "outputs": [
    {
     "data": {
      "image/png": "[encoded data removed]",
      "text/plain": [
       "<Figure size 800x600 with 1 Axes>"
      ]
     },
     "metadata": {},
     "output_type": "display_data"
    }
   ],
   "source": [
    "fpr, tpr, thresholds = roc_curve(y_test, y_test_pred)\n",
    "roc_auc = auc(fpr, tpr)\n",
    "\n",
    "# Plot ROC curve\n",
    "plt.figure(figsize=(8, 6))\n",
    "plt.plot(fpr, tpr, color='darkorange', lw=2, label='ROC curve (area = {:.2f})'.format(roc_auc))\n",
    "plt.plot([0, 1], [0, 1], color='navy', lw=2, linestyle='--')\n",
    "plt.xlim([0.0, 1.0])\n",
    "plt.ylim([0.0, 1.05])\n",
    "plt.xlabel('False Positive Rate')\n",
    "plt.ylabel('True Positive Rate')\n",
    "plt.title('Receiver Operating Characteristic (ROC) Curve for test data')\n",
    "plt.legend(loc=\"lower right\")\n",
    "plt.show()"
   ]
  },
  {
   "cell_type": "code",
   "execution_count": 618,
   "id": "e5ff15e7",
   "metadata": {},
   "outputs": [],
   "source": [
    "y_train_pred_labels = (y_train_pred > 0.50).astype(int)"
   ]
  },
  {
   "cell_type": "code",
   "execution_count": 619,
   "id": "1a88e116",
   "metadata": {},
   "outputs": [],
   "source": [
    "y_test_pred_labels = (y_test_pred > 0.50).astype(int)"
   ]
  },
  {
   "cell_type": "code",
   "execution_count": null,
   "id": "4d4a304c",
   "metadata": {},
   "outputs": [],
   "source": []
  },
  {
   "cell_type": "raw",
   "id": "c394f904",
   "metadata": {},
   "source": [
    "#Generating confusion matrices for train and test \n",
    "from sklearn.metrics import confusion_matrix"
   ]
  },
  {
   "cell_type": "code",
   "execution_count": 620,
   "id": "0aed17e5",
   "metadata": {},
   "outputs": [],
   "source": [
    "cm_train = confusion_matrix(y_train, y_train_pred_labels)"
   ]
  },
  {
   "cell_type": "code",
   "execution_count": 621,
   "id": "047a0676",
   "metadata": {},
   "outputs": [
    {
     "data": {
      "image/png": "[encoded data removed]",
      "text/plain": [
       "<Figure size 800x600 with 1 Axes>"
      ]
     },
     "metadata": {},
     "output_type": "display_data"
    }
   ],
   "source": [
    "import seaborn as sns\n",
    "import matplotlib.pyplot as plt\n",
    "\n",
    "plt.figure(figsize=(8, 6))\n",
    "sns.heatmap(cm_train, annot=True, fmt=\"d\", cmap=\"Blues\", cbar=False,\n",
    "            xticklabels=[\"Predicted 0\", \"Predicted 1\"],\n",
    "            yticklabels=[\"Actual 0\", \"Actual 1\"])\n",
    "plt.title(\"Confusion Matrix for training data\")\n",
    "plt.xlabel(\"Predicted\")\n",
    "plt.ylabel(\"Actual\")\n",
    "plt.show()"
   ]
  },
  {
   "cell_type": "code",
   "execution_count": 622,
   "id": "e619de3b",
   "metadata": {},
   "outputs": [],
   "source": [
    "cm_test = confusion_matrix(y_test, y_test_pred_labels)"
   ]
  },
  {
   "cell_type": "code",
   "execution_count": 623,
   "id": "7bbb48fc",
   "metadata": {},
   "outputs": [
    {
     "data": {
      "image/png": "[encoded data removed]",
      "text/plain": [
       "<Figure size 800x600 with 1 Axes>"
      ]
     },
     "metadata": {},
     "output_type": "display_data"
    }
   ],
   "source": [
    "import seaborn as sns\n",
    "import matplotlib.pyplot as plt\n",
    "\n",
    "plt.figure(figsize=(8, 6))\n",
    "sns.heatmap(cm_test, annot=True, fmt=\"d\", cmap=\"Blues\", cbar=False,\n",
    "            xticklabels=[\"Predicted 0\", \"Predicted 1\"],\n",
    "            yticklabels=[\"Actual 0\", \"Actual 1\"])\n",
    "plt.title(\"Confusion Matrix for test data\")\n",
    "plt.xlabel(\"Predicted\")\n",
    "plt.ylabel(\"Actual\")\n",
    "plt.show()"
   ]
  },
  {
   "cell_type": "code",
   "execution_count": null,
   "id": "45fda403",
   "metadata": {},
   "outputs": [],
   "source": []
  },
  {
   "cell_type": "code",
   "execution_count": null,
   "id": "fda45214",
   "metadata": {},
   "outputs": [],
   "source": []
  },
  {
   "cell_type": "code",
   "execution_count": null,
   "id": "81aafa3b",
   "metadata": {},
   "outputs": [],
   "source": []
  }
 ],
 "metadata": {
  "kernelspec": {
   "display_name": "Python 3 (ipykernel)",
   "language": "python",
   "name": "python3"
  },
  "language_info": {
   "codemirror_mode": {
    "name": "ipython",
    "version": 3
   },
   "file_extension": ".py",
   "mimetype": "text/x-python",
   "name": "python",
   "nbconvert_exporter": "python",
   "pygments_lexer": "ipython3",
   "version": "3.9.13"
  }
 },
 "nbformat": 4,
 "nbformat_minor": 5
}
